{
 "cells": [
  {
   "cell_type": "code",
   "execution_count": 1,
   "id": "266097eb",
   "metadata": {
    "_cell_guid": "b1076dfc-b9ad-4769-8c92-a6c4dae69d19",
    "_uuid": "8f2839f25d086af736a60e9eeb907d3b93b6e0e5",
    "execution": {
     "iopub.execute_input": "2025-08-27T17:24:37.112037Z",
     "iopub.status.busy": "2025-08-27T17:24:37.111661Z",
     "iopub.status.idle": "2025-08-27T17:24:38.930365Z",
     "shell.execute_reply": "2025-08-27T17:24:38.929380Z"
    },
    "papermill": {
     "duration": 1.824439,
     "end_time": "2025-08-27T17:24:38.932161",
     "exception": false,
     "start_time": "2025-08-27T17:24:37.107722",
     "status": "completed"
    },
    "tags": []
   },
   "outputs": [],
   "source": [
    "# This Python 3 environment comes with many helpful analytics libraries installed\n",
    "# It is defined by the kaggle/python Docker image: https://github.com/kaggle/docker-python\n",
    "# For example, here's several helpful packages to load\n",
    "\n",
    "import numpy as np # linear algebra\n",
    "import pandas as pd # data processing, CSV file I/O (e.g. pd.read_csv)\n",
    "\n",
    "# Input data files are available in the read-only \"../input/\" directory\n",
    "# For example, running this (by clicking run or pressing Shift+Enter) will list all files under the input directory\n",
    "\n",
    "import os\n",
    "for dirname, _, filenames in os.walk('/kaggle/input'):\n",
    "    for filename in filenames:\n",
    "        print(os.path.join(dirname, filename))\n",
    "\n",
    "# You can write up to 20GB to the current directory (/kaggle/working/) that gets preserved as output when you create a version using \"Save & Run All\" \n",
    "# You can also write temporary files to /kaggle/temp/, but they won't be saved outside of the current session"
   ]
  },
  {
   "cell_type": "code",
   "execution_count": 2,
   "id": "954f5e15",
   "metadata": {
    "execution": {
     "iopub.execute_input": "2025-08-27T17:24:38.938377Z",
     "iopub.status.busy": "2025-08-27T17:24:38.937952Z",
     "iopub.status.idle": "2025-08-27T17:24:46.049318Z",
     "shell.execute_reply": "2025-08-27T17:24:46.048147Z"
    },
    "papermill": {
     "duration": 7.116003,
     "end_time": "2025-08-27T17:24:46.050847",
     "exception": false,
     "start_time": "2025-08-27T17:24:38.934844",
     "status": "completed"
    },
    "tags": []
   },
   "outputs": [
    {
     "name": "stdout",
     "output_type": "stream",
     "text": [
      "Collecting qiskit\r\n",
      "  Downloading qiskit-2.1.2-cp39-abi3-manylinux_2_17_x86_64.manylinux2014_x86_64.whl.metadata (12 kB)\r\n",
      "Collecting rustworkx>=0.15.0 (from qiskit)\r\n",
      "  Downloading rustworkx-0.17.1-cp39-abi3-manylinux_2_17_x86_64.manylinux2014_x86_64.whl.metadata (10 kB)\r\n",
      "Requirement already satisfied: numpy<3,>=1.17 in /usr/local/lib/python3.11/dist-packages (from qiskit) (1.26.4)\r\n",
      "Requirement already satisfied: scipy>=1.5 in /usr/local/lib/python3.11/dist-packages (from qiskit) (1.15.3)\r\n",
      "Requirement already satisfied: dill>=0.3 in /usr/local/lib/python3.11/dist-packages (from qiskit) (0.3.8)\r\n",
      "Collecting stevedore>=3.0.0 (from qiskit)\r\n",
      "  Downloading stevedore-5.5.0-py3-none-any.whl.metadata (2.2 kB)\r\n",
      "Requirement already satisfied: typing-extensions in /usr/local/lib/python3.11/dist-packages (from qiskit) (4.14.0)\r\n",
      "Requirement already satisfied: mkl_fft in /usr/local/lib/python3.11/dist-packages (from numpy<3,>=1.17->qiskit) (1.3.8)\r\n",
      "Requirement already satisfied: mkl_random in /usr/local/lib/python3.11/dist-packages (from numpy<3,>=1.17->qiskit) (1.2.4)\r\n",
      "Requirement already satisfied: mkl_umath in /usr/local/lib/python3.11/dist-packages (from numpy<3,>=1.17->qiskit) (0.1.1)\r\n",
      "Requirement already satisfied: mkl in /usr/local/lib/python3.11/dist-packages (from numpy<3,>=1.17->qiskit) (2025.2.0)\r\n",
      "Requirement already satisfied: tbb4py in /usr/local/lib/python3.11/dist-packages (from numpy<3,>=1.17->qiskit) (2022.2.0)\r\n",
      "Requirement already satisfied: mkl-service in /usr/local/lib/python3.11/dist-packages (from numpy<3,>=1.17->qiskit) (2.4.1)\r\n",
      "Requirement already satisfied: intel-openmp<2026,>=2024 in /usr/local/lib/python3.11/dist-packages (from mkl->numpy<3,>=1.17->qiskit) (2024.2.0)\r\n",
      "Requirement already satisfied: tbb==2022.* in /usr/local/lib/python3.11/dist-packages (from mkl->numpy<3,>=1.17->qiskit) (2022.2.0)\r\n",
      "Requirement already satisfied: tcmlib==1.* in /usr/local/lib/python3.11/dist-packages (from tbb==2022.*->mkl->numpy<3,>=1.17->qiskit) (1.4.0)\r\n",
      "Requirement already satisfied: intel-cmplr-lib-rt in /usr/local/lib/python3.11/dist-packages (from mkl_umath->numpy<3,>=1.17->qiskit) (2024.2.0)\r\n",
      "Requirement already satisfied: intel-cmplr-lib-ur==2024.2.0 in /usr/local/lib/python3.11/dist-packages (from intel-openmp<2026,>=2024->mkl->numpy<3,>=1.17->qiskit) (2024.2.0)\r\n",
      "Downloading qiskit-2.1.2-cp39-abi3-manylinux_2_17_x86_64.manylinux2014_x86_64.whl (7.4 MB)\r\n",
      "\u001b[2K   \u001b[90m━━━━━━━━━━━━━━━━━━━━━━━━━━━━━━━━━━━━━━━━\u001b[0m \u001b[32m7.4/7.4 MB\u001b[0m \u001b[31m53.9 MB/s\u001b[0m eta \u001b[36m0:00:00\u001b[0m\r\n",
      "\u001b[?25hDownloading rustworkx-0.17.1-cp39-abi3-manylinux_2_17_x86_64.manylinux2014_x86_64.whl (2.2 MB)\r\n",
      "\u001b[2K   \u001b[90m━━━━━━━━━━━━━━━━━━━━━━━━━━━━━━━━━━━━━━━━\u001b[0m \u001b[32m2.2/2.2 MB\u001b[0m \u001b[31m72.0 MB/s\u001b[0m eta \u001b[36m0:00:00\u001b[0m\r\n",
      "\u001b[?25hDownloading stevedore-5.5.0-py3-none-any.whl (49 kB)\r\n",
      "\u001b[2K   \u001b[90m━━━━━━━━━━━━━━━━━━━━━━━━━━━━━━━━━━━━━━━━\u001b[0m \u001b[32m49.5/49.5 kB\u001b[0m \u001b[31m2.3 MB/s\u001b[0m eta \u001b[36m0:00:00\u001b[0m\r\n",
      "\u001b[?25hInstalling collected packages: stevedore, rustworkx, qiskit\r\n",
      "Successfully installed qiskit-2.1.2 rustworkx-0.17.1 stevedore-5.5.0\r\n",
      "Note: you may need to restart the kernel to use updated packages.\n"
     ]
    }
   ],
   "source": [
    "pip install qiskit "
   ]
  },
  {
   "cell_type": "code",
   "execution_count": 3,
   "id": "1f9b4ddb",
   "metadata": {
    "execution": {
     "iopub.execute_input": "2025-08-27T17:24:46.061084Z",
     "iopub.status.busy": "2025-08-27T17:24:46.060712Z",
     "iopub.status.idle": "2025-08-27T17:24:50.841387Z",
     "shell.execute_reply": "2025-08-27T17:24:50.840171Z"
    },
    "papermill": {
     "duration": 4.787644,
     "end_time": "2025-08-27T17:24:50.843004",
     "exception": false,
     "start_time": "2025-08-27T17:24:46.055360",
     "status": "completed"
    },
    "tags": []
   },
   "outputs": [
    {
     "name": "stdout",
     "output_type": "stream",
     "text": [
      "Collecting qiskit_aer\r\n",
      "  Downloading qiskit_aer-0.17.1-cp311-cp311-manylinux_2_17_x86_64.manylinux2014_x86_64.whl.metadata (8.3 kB)\r\n",
      "Requirement already satisfied: qiskit>=1.1.0 in /usr/local/lib/python3.11/dist-packages (from qiskit_aer) (2.1.2)\r\n",
      "Requirement already satisfied: numpy>=1.16.3 in /usr/local/lib/python3.11/dist-packages (from qiskit_aer) (1.26.4)\r\n",
      "Requirement already satisfied: scipy>=1.0 in /usr/local/lib/python3.11/dist-packages (from qiskit_aer) (1.15.3)\r\n",
      "Requirement already satisfied: psutil>=5 in /usr/local/lib/python3.11/dist-packages (from qiskit_aer) (7.0.0)\r\n",
      "Requirement already satisfied: python-dateutil>=2.8.0 in /usr/local/lib/python3.11/dist-packages (from qiskit_aer) (2.9.0.post0)\r\n",
      "Requirement already satisfied: mkl_fft in /usr/local/lib/python3.11/dist-packages (from numpy>=1.16.3->qiskit_aer) (1.3.8)\r\n",
      "Requirement already satisfied: mkl_random in /usr/local/lib/python3.11/dist-packages (from numpy>=1.16.3->qiskit_aer) (1.2.4)\r\n",
      "Requirement already satisfied: mkl_umath in /usr/local/lib/python3.11/dist-packages (from numpy>=1.16.3->qiskit_aer) (0.1.1)\r\n",
      "Requirement already satisfied: mkl in /usr/local/lib/python3.11/dist-packages (from numpy>=1.16.3->qiskit_aer) (2025.2.0)\r\n",
      "Requirement already satisfied: tbb4py in /usr/local/lib/python3.11/dist-packages (from numpy>=1.16.3->qiskit_aer) (2022.2.0)\r\n",
      "Requirement already satisfied: mkl-service in /usr/local/lib/python3.11/dist-packages (from numpy>=1.16.3->qiskit_aer) (2.4.1)\r\n",
      "Requirement already satisfied: six>=1.5 in /usr/local/lib/python3.11/dist-packages (from python-dateutil>=2.8.0->qiskit_aer) (1.17.0)\r\n",
      "Requirement already satisfied: rustworkx>=0.15.0 in /usr/local/lib/python3.11/dist-packages (from qiskit>=1.1.0->qiskit_aer) (0.17.1)\r\n",
      "Requirement already satisfied: dill>=0.3 in /usr/local/lib/python3.11/dist-packages (from qiskit>=1.1.0->qiskit_aer) (0.3.8)\r\n",
      "Requirement already satisfied: stevedore>=3.0.0 in /usr/local/lib/python3.11/dist-packages (from qiskit>=1.1.0->qiskit_aer) (5.5.0)\r\n",
      "Requirement already satisfied: typing-extensions in /usr/local/lib/python3.11/dist-packages (from qiskit>=1.1.0->qiskit_aer) (4.14.0)\r\n",
      "Requirement already satisfied: intel-openmp<2026,>=2024 in /usr/local/lib/python3.11/dist-packages (from mkl->numpy>=1.16.3->qiskit_aer) (2024.2.0)\r\n",
      "Requirement already satisfied: tbb==2022.* in /usr/local/lib/python3.11/dist-packages (from mkl->numpy>=1.16.3->qiskit_aer) (2022.2.0)\r\n",
      "Requirement already satisfied: tcmlib==1.* in /usr/local/lib/python3.11/dist-packages (from tbb==2022.*->mkl->numpy>=1.16.3->qiskit_aer) (1.4.0)\r\n",
      "Requirement already satisfied: intel-cmplr-lib-rt in /usr/local/lib/python3.11/dist-packages (from mkl_umath->numpy>=1.16.3->qiskit_aer) (2024.2.0)\r\n",
      "Requirement already satisfied: intel-cmplr-lib-ur==2024.2.0 in /usr/local/lib/python3.11/dist-packages (from intel-openmp<2026,>=2024->mkl->numpy>=1.16.3->qiskit_aer) (2024.2.0)\r\n",
      "Downloading qiskit_aer-0.17.1-cp311-cp311-manylinux_2_17_x86_64.manylinux2014_x86_64.whl (12.4 MB)\r\n",
      "\u001b[2K   \u001b[90m━━━━━━━━━━━━━━━━━━━━━━━━━━━━━━━━━━━━━━━━\u001b[0m \u001b[32m12.4/12.4 MB\u001b[0m \u001b[31m89.4 MB/s\u001b[0m eta \u001b[36m0:00:00\u001b[0m\r\n",
      "\u001b[?25hInstalling collected packages: qiskit_aer\r\n",
      "Successfully installed qiskit_aer-0.17.1\r\n",
      "Note: you may need to restart the kernel to use updated packages.\n"
     ]
    }
   ],
   "source": [
    "pip install qiskit_aer "
   ]
  },
  {
   "cell_type": "code",
   "execution_count": 4,
   "id": "8b3162a5",
   "metadata": {
    "execution": {
     "iopub.execute_input": "2025-08-27T17:24:50.851960Z",
     "iopub.status.busy": "2025-08-27T17:24:50.851574Z",
     "iopub.status.idle": "2025-08-27T17:24:51.493915Z",
     "shell.execute_reply": "2025-08-27T17:24:51.492734Z"
    },
    "papermill": {
     "duration": 0.649431,
     "end_time": "2025-08-27T17:24:51.496290",
     "exception": false,
     "start_time": "2025-08-27T17:24:50.846859",
     "status": "completed"
    },
    "tags": []
   },
   "outputs": [],
   "source": [
    "import qiskit \n",
    "from qiskit import QuantumCircuit \n",
    "from qiskit import transpile \n",
    "from qiskit_aer import AerSimulator \n",
    "from qiskit.visualization import plot_histogram"
   ]
  },
  {
   "cell_type": "code",
   "execution_count": 5,
   "id": "57c8d505",
   "metadata": {
    "execution": {
     "iopub.execute_input": "2025-08-27T17:24:51.506745Z",
     "iopub.status.busy": "2025-08-27T17:24:51.506339Z",
     "iopub.status.idle": "2025-08-27T17:24:51.511832Z",
     "shell.execute_reply": "2025-08-27T17:24:51.511007Z"
    },
    "papermill": {
     "duration": 0.012631,
     "end_time": "2025-08-27T17:24:51.513435",
     "exception": false,
     "start_time": "2025-08-27T17:24:51.500804",
     "status": "completed"
    },
    "tags": []
   },
   "outputs": [],
   "source": [
    "def QFT(n): \n",
    "    qc=QuantumCircuit(n)\n",
    "    for i in range(n): \n",
    "        qc.h(i)\n",
    "        for j in range(i+1, n):\n",
    "            qc.cp(np.pi/(2**(j-i)), j, i)\n",
    "    return qc"
   ]
  },
  {
   "cell_type": "code",
   "execution_count": 6,
   "id": "25c9d284",
   "metadata": {
    "execution": {
     "iopub.execute_input": "2025-08-27T17:24:51.522551Z",
     "iopub.status.busy": "2025-08-27T17:24:51.522237Z",
     "iopub.status.idle": "2025-08-27T17:24:51.534256Z",
     "shell.execute_reply": "2025-08-27T17:24:51.533349Z"
    },
    "papermill": {
     "duration": 0.018605,
     "end_time": "2025-08-27T17:24:51.535780",
     "exception": false,
     "start_time": "2025-08-27T17:24:51.517175",
     "status": "completed"
    },
    "tags": []
   },
   "outputs": [
    {
     "data": {
      "text/html": [
       "<pre style=\"word-wrap: normal;white-space: pre;background: #fff0;line-height: 1.1;font-family: &quot;Courier New&quot;,Courier,monospace\">     ┌───┐                                                                 »\n",
       "q_0: ┤ H ├─■────────■─────────────■─────────────────■──────────────────────»\n",
       "     └───┘ │P(π/2)  │       ┌───┐ │                 │                      »\n",
       "q_1: ──────■────────┼───────┤ H ├─┼────────■────────┼─────────■────────────»\n",
       "                    │P(π/4) └───┘ │        │P(π/2)  │         │       ┌───┐»\n",
       "q_2: ───────────────■─────────────┼────────■────────┼─────────┼───────┤ H ├»\n",
       "                                  │P(π/8)           │         │P(π/4) └───┘»\n",
       "q_3: ─────────────────────────────■─────────────────┼─────────■────────────»\n",
       "                                                    │P(π/16)               »\n",
       "q_4: ───────────────────────────────────────────────■──────────────────────»\n",
       "                                                                           »\n",
       "«                                                   \n",
       "«q_0: ──────────────────────────────────────────────\n",
       "«                                                   \n",
       "«q_1: ─■────────────────────────────────────────────\n",
       "«      │                                            \n",
       "«q_2: ─┼────────■────────■──────────────────────────\n",
       "«      │        │P(π/2)  │       ┌───┐              \n",
       "«q_3: ─┼────────■────────┼───────┤ H ├─■────────────\n",
       "«      │P(π/8)           │P(π/4) └───┘ │P(π/2) ┌───┐\n",
       "«q_4: ─■─────────────────■─────────────■───────┤ H ├\n",
       "«                                              └───┘</pre>"
      ],
      "text/plain": [
       "     ┌───┐                                                                 »\n",
       "q_0: ┤ H ├─■────────■─────────────■─────────────────■──────────────────────»\n",
       "     └───┘ │P(π/2)  │       ┌───┐ │                 │                      »\n",
       "q_1: ──────■────────┼───────┤ H ├─┼────────■────────┼─────────■────────────»\n",
       "                    │P(π/4) └───┘ │        │P(π/2)  │         │       ┌───┐»\n",
       "q_2: ───────────────■─────────────┼────────■────────┼─────────┼───────┤ H ├»\n",
       "                                  │P(π/8)           │         │P(π/4) └───┘»\n",
       "q_3: ─────────────────────────────■─────────────────┼─────────■────────────»\n",
       "                                                    │P(π/16)               »\n",
       "q_4: ───────────────────────────────────────────────■──────────────────────»\n",
       "                                                                           »\n",
       "«                                                   \n",
       "«q_0: ──────────────────────────────────────────────\n",
       "«                                                   \n",
       "«q_1: ─■────────────────────────────────────────────\n",
       "«      │                                            \n",
       "«q_2: ─┼────────■────────■──────────────────────────\n",
       "«      │        │P(π/2)  │       ┌───┐              \n",
       "«q_3: ─┼────────■────────┼───────┤ H ├─■────────────\n",
       "«      │P(π/8)           │P(π/4) └───┘ │P(π/2) ┌───┐\n",
       "«q_4: ─■─────────────────■─────────────■───────┤ H ├\n",
       "«                                              └───┘"
      ]
     },
     "execution_count": 6,
     "metadata": {},
     "output_type": "execute_result"
    }
   ],
   "source": [
    "qft=QFT(5) \n",
    "qft.draw()"
   ]
  },
  {
   "cell_type": "code",
   "execution_count": 7,
   "id": "6e2f88b8",
   "metadata": {
    "execution": {
     "iopub.execute_input": "2025-08-27T17:24:51.545039Z",
     "iopub.status.busy": "2025-08-27T17:24:51.544659Z",
     "iopub.status.idle": "2025-08-27T17:24:51.549302Z",
     "shell.execute_reply": "2025-08-27T17:24:51.548340Z"
    },
    "papermill": {
     "duration": 0.010821,
     "end_time": "2025-08-27T17:24:51.550662",
     "exception": false,
     "start_time": "2025-08-27T17:24:51.539841",
     "status": "completed"
    },
    "tags": []
   },
   "outputs": [],
   "source": [
    "#  using OFT which is a part of qiskit \n",
    "from qiskit.circuit.library import QFT "
   ]
  },
  {
   "cell_type": "code",
   "execution_count": 8,
   "id": "0811a797",
   "metadata": {
    "execution": {
     "iopub.execute_input": "2025-08-27T17:24:51.559673Z",
     "iopub.status.busy": "2025-08-27T17:24:51.559326Z",
     "iopub.status.idle": "2025-08-27T17:24:51.568596Z",
     "shell.execute_reply": "2025-08-27T17:24:51.567585Z"
    },
    "papermill": {
     "duration": 0.015589,
     "end_time": "2025-08-27T17:24:51.570211",
     "exception": false,
     "start_time": "2025-08-27T17:24:51.554622",
     "status": "completed"
    },
    "tags": []
   },
   "outputs": [
    {
     "name": "stderr",
     "output_type": "stream",
     "text": [
      "/tmp/ipykernel_13/983864167.py:1: DeprecationWarning: The class ``qiskit.circuit.library.basis_change.qft.QFT`` is deprecated as of Qiskit 2.1. It will be removed in Qiskit 3.0. ('Use qiskit.circuit.library.QFTGate or qiskit.synthesis.qft.synth_qft_full instead, for access to all previous arguments.',)\n",
      "  qc=QFT(5)\n"
     ]
    },
    {
     "data": {
      "text/html": [
       "<pre style=\"word-wrap: normal;white-space: pre;background: #fff0;line-height: 1.1;font-family: &quot;Courier New&quot;,Courier,monospace\">     ┌──────┐\n",
       "q_0: ┤0     ├\n",
       "     │      │\n",
       "q_1: ┤1     ├\n",
       "     │      │\n",
       "q_2: ┤2 QFT ├\n",
       "     │      │\n",
       "q_3: ┤3     ├\n",
       "     │      │\n",
       "q_4: ┤4     ├\n",
       "     └──────┘</pre>"
      ],
      "text/plain": [
       "     ┌──────┐\n",
       "q_0: ┤0     ├\n",
       "     │      │\n",
       "q_1: ┤1     ├\n",
       "     │      │\n",
       "q_2: ┤2 QFT ├\n",
       "     │      │\n",
       "q_3: ┤3     ├\n",
       "     │      │\n",
       "q_4: ┤4     ├\n",
       "     └──────┘"
      ]
     },
     "execution_count": 8,
     "metadata": {},
     "output_type": "execute_result"
    }
   ],
   "source": [
    "qc=QFT(5) \n",
    "qc.draw()"
   ]
  },
  {
   "cell_type": "code",
   "execution_count": null,
   "id": "adf335b4",
   "metadata": {
    "papermill": {
     "duration": 0.003601,
     "end_time": "2025-08-27T17:24:51.578165",
     "exception": false,
     "start_time": "2025-08-27T17:24:51.574564",
     "status": "completed"
    },
    "tags": []
   },
   "outputs": [],
   "source": []
  }
 ],
 "metadata": {
  "kaggle": {
   "accelerator": "none",
   "dataSources": [],
   "dockerImageVersionId": 31089,
   "isGpuEnabled": false,
   "isInternetEnabled": true,
   "language": "python",
   "sourceType": "notebook"
  },
  "kernelspec": {
   "display_name": "Python 3",
   "language": "python",
   "name": "python3"
  },
  "language_info": {
   "codemirror_mode": {
    "name": "ipython",
    "version": 3
   },
   "file_extension": ".py",
   "mimetype": "text/x-python",
   "name": "python",
   "nbconvert_exporter": "python",
   "pygments_lexer": "ipython3",
   "version": "3.11.13"
  },
  "papermill": {
   "default_parameters": {},
   "duration": 20.192026,
   "end_time": "2025-08-27T17:24:52.203051",
   "environment_variables": {},
   "exception": null,
   "input_path": "__notebook__.ipynb",
   "output_path": "__notebook__.ipynb",
   "parameters": {},
   "start_time": "2025-08-27T17:24:32.011025",
   "version": "2.6.0"
  }
 },
 "nbformat": 4,
 "nbformat_minor": 5
}
