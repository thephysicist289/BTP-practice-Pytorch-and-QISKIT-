{
 "cells": [
  {
   "cell_type": "code",
   "execution_count": 1,
   "id": "c54be3c9",
   "metadata": {
    "_cell_guid": "b1076dfc-b9ad-4769-8c92-a6c4dae69d19",
    "_uuid": "8f2839f25d086af736a60e9eeb907d3b93b6e0e5",
    "execution": {
     "iopub.execute_input": "2025-08-27T15:12:11.558723Z",
     "iopub.status.busy": "2025-08-27T15:12:11.557738Z",
     "iopub.status.idle": "2025-08-27T15:12:13.404657Z",
     "shell.execute_reply": "2025-08-27T15:12:13.403796Z"
    },
    "papermill": {
     "duration": 1.852945,
     "end_time": "2025-08-27T15:12:13.406478",
     "exception": false,
     "start_time": "2025-08-27T15:12:11.553533",
     "status": "completed"
    },
    "tags": []
   },
   "outputs": [],
   "source": [
    "# This Python 3 environment comes with many helpful analytics libraries installed\n",
    "# It is defined by the kaggle/python Docker image: https://github.com/kaggle/docker-python\n",
    "# For example, here's several helpful packages to load\n",
    "\n",
    "import numpy as np # linear algebra\n",
    "import pandas as pd # data processing, CSV file I/O (e.g. pd.read_csv)\n",
    "\n",
    "# Input data files are available in the read-only \"../input/\" directory\n",
    "# For example, running this (by clicking run or pressing Shift+Enter) will list all files under the input directory\n",
    "\n",
    "import os\n",
    "for dirname, _, filenames in os.walk('/kaggle/input'):\n",
    "    for filename in filenames:\n",
    "        print(os.path.join(dirname, filename))\n",
    "\n",
    "# You can write up to 20GB to the current directory (/kaggle/working/) that gets preserved as output when you create a version using \"Save & Run All\" \n",
    "# You can also write temporary files to /kaggle/temp/, but they won't be saved outside of the current session"
   ]
  },
  {
   "cell_type": "code",
   "execution_count": 2,
   "id": "46e1467d",
   "metadata": {
    "execution": {
     "iopub.execute_input": "2025-08-27T15:12:13.413596Z",
     "iopub.status.busy": "2025-08-27T15:12:13.412669Z",
     "iopub.status.idle": "2025-08-27T15:12:20.485385Z",
     "shell.execute_reply": "2025-08-27T15:12:20.484204Z"
    },
    "papermill": {
     "duration": 7.077391,
     "end_time": "2025-08-27T15:12:20.486879",
     "exception": false,
     "start_time": "2025-08-27T15:12:13.409488",
     "status": "completed"
    },
    "tags": []
   },
   "outputs": [
    {
     "name": "stdout",
     "output_type": "stream",
     "text": [
      "Collecting qiskit\r\n",
      "  Downloading qiskit-2.1.2-cp39-abi3-manylinux_2_17_x86_64.manylinux2014_x86_64.whl.metadata (12 kB)\r\n",
      "Collecting rustworkx>=0.15.0 (from qiskit)\r\n",
      "  Downloading rustworkx-0.17.1-cp39-abi3-manylinux_2_17_x86_64.manylinux2014_x86_64.whl.metadata (10 kB)\r\n",
      "Requirement already satisfied: numpy<3,>=1.17 in /usr/local/lib/python3.11/dist-packages (from qiskit) (1.26.4)\r\n",
      "Requirement already satisfied: scipy>=1.5 in /usr/local/lib/python3.11/dist-packages (from qiskit) (1.15.3)\r\n",
      "Requirement already satisfied: dill>=0.3 in /usr/local/lib/python3.11/dist-packages (from qiskit) (0.3.8)\r\n",
      "Collecting stevedore>=3.0.0 (from qiskit)\r\n",
      "  Downloading stevedore-5.5.0-py3-none-any.whl.metadata (2.2 kB)\r\n",
      "Requirement already satisfied: typing-extensions in /usr/local/lib/python3.11/dist-packages (from qiskit) (4.14.0)\r\n",
      "Requirement already satisfied: mkl_fft in /usr/local/lib/python3.11/dist-packages (from numpy<3,>=1.17->qiskit) (1.3.8)\r\n",
      "Requirement already satisfied: mkl_random in /usr/local/lib/python3.11/dist-packages (from numpy<3,>=1.17->qiskit) (1.2.4)\r\n",
      "Requirement already satisfied: mkl_umath in /usr/local/lib/python3.11/dist-packages (from numpy<3,>=1.17->qiskit) (0.1.1)\r\n",
      "Requirement already satisfied: mkl in /usr/local/lib/python3.11/dist-packages (from numpy<3,>=1.17->qiskit) (2025.2.0)\r\n",
      "Requirement already satisfied: tbb4py in /usr/local/lib/python3.11/dist-packages (from numpy<3,>=1.17->qiskit) (2022.2.0)\r\n",
      "Requirement already satisfied: mkl-service in /usr/local/lib/python3.11/dist-packages (from numpy<3,>=1.17->qiskit) (2.4.1)\r\n",
      "Requirement already satisfied: intel-openmp<2026,>=2024 in /usr/local/lib/python3.11/dist-packages (from mkl->numpy<3,>=1.17->qiskit) (2024.2.0)\r\n",
      "Requirement already satisfied: tbb==2022.* in /usr/local/lib/python3.11/dist-packages (from mkl->numpy<3,>=1.17->qiskit) (2022.2.0)\r\n",
      "Requirement already satisfied: tcmlib==1.* in /usr/local/lib/python3.11/dist-packages (from tbb==2022.*->mkl->numpy<3,>=1.17->qiskit) (1.4.0)\r\n",
      "Requirement already satisfied: intel-cmplr-lib-rt in /usr/local/lib/python3.11/dist-packages (from mkl_umath->numpy<3,>=1.17->qiskit) (2024.2.0)\r\n",
      "Requirement already satisfied: intel-cmplr-lib-ur==2024.2.0 in /usr/local/lib/python3.11/dist-packages (from intel-openmp<2026,>=2024->mkl->numpy<3,>=1.17->qiskit) (2024.2.0)\r\n",
      "Downloading qiskit-2.1.2-cp39-abi3-manylinux_2_17_x86_64.manylinux2014_x86_64.whl (7.4 MB)\r\n",
      "\u001b[2K   \u001b[90m━━━━━━━━━━━━━━━━━━━━━━━━━━━━━━━━━━━━━━━━\u001b[0m \u001b[32m7.4/7.4 MB\u001b[0m \u001b[31m74.5 MB/s\u001b[0m eta \u001b[36m0:00:00\u001b[0m\r\n",
      "\u001b[?25hDownloading rustworkx-0.17.1-cp39-abi3-manylinux_2_17_x86_64.manylinux2014_x86_64.whl (2.2 MB)\r\n",
      "\u001b[2K   \u001b[90m━━━━━━━━━━━━━━━━━━━━━━━━━━━━━━━━━━━━━━━━\u001b[0m \u001b[32m2.2/2.2 MB\u001b[0m \u001b[31m61.7 MB/s\u001b[0m eta \u001b[36m0:00:00\u001b[0m\r\n",
      "\u001b[?25hDownloading stevedore-5.5.0-py3-none-any.whl (49 kB)\r\n",
      "\u001b[2K   \u001b[90m━━━━━━━━━━━━━━━━━━━━━━━━━━━━━━━━━━━━━━━━\u001b[0m \u001b[32m49.5/49.5 kB\u001b[0m \u001b[31m2.6 MB/s\u001b[0m eta \u001b[36m0:00:00\u001b[0m\r\n",
      "\u001b[?25hInstalling collected packages: stevedore, rustworkx, qiskit\r\n",
      "Successfully installed qiskit-2.1.2 rustworkx-0.17.1 stevedore-5.5.0\r\n",
      "Note: you may need to restart the kernel to use updated packages.\n"
     ]
    }
   ],
   "source": [
    "pip install qiskit "
   ]
  },
  {
   "cell_type": "code",
   "execution_count": 3,
   "id": "04b3a22c",
   "metadata": {
    "execution": {
     "iopub.execute_input": "2025-08-27T15:12:20.494833Z",
     "iopub.status.busy": "2025-08-27T15:12:20.494488Z",
     "iopub.status.idle": "2025-08-27T15:12:25.893391Z",
     "shell.execute_reply": "2025-08-27T15:12:25.892137Z"
    },
    "papermill": {
     "duration": 5.40471,
     "end_time": "2025-08-27T15:12:25.895070",
     "exception": false,
     "start_time": "2025-08-27T15:12:20.490360",
     "status": "completed"
    },
    "tags": []
   },
   "outputs": [
    {
     "name": "stdout",
     "output_type": "stream",
     "text": [
      "Collecting qiskit-aer\r\n",
      "  Downloading qiskit_aer-0.17.1-cp311-cp311-manylinux_2_17_x86_64.manylinux2014_x86_64.whl.metadata (8.3 kB)\r\n",
      "Requirement already satisfied: qiskit>=1.1.0 in /usr/local/lib/python3.11/dist-packages (from qiskit-aer) (2.1.2)\r\n",
      "Requirement already satisfied: numpy>=1.16.3 in /usr/local/lib/python3.11/dist-packages (from qiskit-aer) (1.26.4)\r\n",
      "Requirement already satisfied: scipy>=1.0 in /usr/local/lib/python3.11/dist-packages (from qiskit-aer) (1.15.3)\r\n",
      "Requirement already satisfied: psutil>=5 in /usr/local/lib/python3.11/dist-packages (from qiskit-aer) (7.0.0)\r\n",
      "Requirement already satisfied: python-dateutil>=2.8.0 in /usr/local/lib/python3.11/dist-packages (from qiskit-aer) (2.9.0.post0)\r\n",
      "Requirement already satisfied: mkl_fft in /usr/local/lib/python3.11/dist-packages (from numpy>=1.16.3->qiskit-aer) (1.3.8)\r\n",
      "Requirement already satisfied: mkl_random in /usr/local/lib/python3.11/dist-packages (from numpy>=1.16.3->qiskit-aer) (1.2.4)\r\n",
      "Requirement already satisfied: mkl_umath in /usr/local/lib/python3.11/dist-packages (from numpy>=1.16.3->qiskit-aer) (0.1.1)\r\n",
      "Requirement already satisfied: mkl in /usr/local/lib/python3.11/dist-packages (from numpy>=1.16.3->qiskit-aer) (2025.2.0)\r\n",
      "Requirement already satisfied: tbb4py in /usr/local/lib/python3.11/dist-packages (from numpy>=1.16.3->qiskit-aer) (2022.2.0)\r\n",
      "Requirement already satisfied: mkl-service in /usr/local/lib/python3.11/dist-packages (from numpy>=1.16.3->qiskit-aer) (2.4.1)\r\n",
      "Requirement already satisfied: six>=1.5 in /usr/local/lib/python3.11/dist-packages (from python-dateutil>=2.8.0->qiskit-aer) (1.17.0)\r\n",
      "Requirement already satisfied: rustworkx>=0.15.0 in /usr/local/lib/python3.11/dist-packages (from qiskit>=1.1.0->qiskit-aer) (0.17.1)\r\n",
      "Requirement already satisfied: dill>=0.3 in /usr/local/lib/python3.11/dist-packages (from qiskit>=1.1.0->qiskit-aer) (0.3.8)\r\n",
      "Requirement already satisfied: stevedore>=3.0.0 in /usr/local/lib/python3.11/dist-packages (from qiskit>=1.1.0->qiskit-aer) (5.5.0)\r\n",
      "Requirement already satisfied: typing-extensions in /usr/local/lib/python3.11/dist-packages (from qiskit>=1.1.0->qiskit-aer) (4.14.0)\r\n",
      "Requirement already satisfied: intel-openmp<2026,>=2024 in /usr/local/lib/python3.11/dist-packages (from mkl->numpy>=1.16.3->qiskit-aer) (2024.2.0)\r\n",
      "Requirement already satisfied: tbb==2022.* in /usr/local/lib/python3.11/dist-packages (from mkl->numpy>=1.16.3->qiskit-aer) (2022.2.0)\r\n",
      "Requirement already satisfied: tcmlib==1.* in /usr/local/lib/python3.11/dist-packages (from tbb==2022.*->mkl->numpy>=1.16.3->qiskit-aer) (1.4.0)\r\n",
      "Requirement already satisfied: intel-cmplr-lib-rt in /usr/local/lib/python3.11/dist-packages (from mkl_umath->numpy>=1.16.3->qiskit-aer) (2024.2.0)\r\n",
      "Requirement already satisfied: intel-cmplr-lib-ur==2024.2.0 in /usr/local/lib/python3.11/dist-packages (from intel-openmp<2026,>=2024->mkl->numpy>=1.16.3->qiskit-aer) (2024.2.0)\r\n",
      "Downloading qiskit_aer-0.17.1-cp311-cp311-manylinux_2_17_x86_64.manylinux2014_x86_64.whl (12.4 MB)\r\n",
      "\u001b[2K   \u001b[90m━━━━━━━━━━━━━━━━━━━━━━━━━━━━━━━━━━━━━━━━\u001b[0m \u001b[32m12.4/12.4 MB\u001b[0m \u001b[31m14.9 MB/s\u001b[0m eta \u001b[36m0:00:00\u001b[0m\r\n",
      "\u001b[?25hInstalling collected packages: qiskit-aer\r\n",
      "Successfully installed qiskit-aer-0.17.1\r\n",
      "Note: you may need to restart the kernel to use updated packages.\n"
     ]
    }
   ],
   "source": [
    "pip install qiskit-aer"
   ]
  },
  {
   "cell_type": "code",
   "execution_count": 4,
   "id": "af6d1782",
   "metadata": {
    "execution": {
     "iopub.execute_input": "2025-08-27T15:12:25.905409Z",
     "iopub.status.busy": "2025-08-27T15:12:25.905066Z",
     "iopub.status.idle": "2025-08-27T15:12:26.420939Z",
     "shell.execute_reply": "2025-08-27T15:12:26.419951Z"
    },
    "papermill": {
     "duration": 0.523129,
     "end_time": "2025-08-27T15:12:26.422601",
     "exception": false,
     "start_time": "2025-08-27T15:12:25.899472",
     "status": "completed"
    },
    "tags": []
   },
   "outputs": [],
   "source": [
    "import qiskit \n",
    "from qiskit import QuantumCircuit \n",
    "from qiskit import transpile \n",
    "from qiskit_aer import AerSimulator \n",
    "from qiskit.visualization import plot_histogram"
   ]
  },
  {
   "cell_type": "code",
   "execution_count": 5,
   "id": "10e76de5",
   "metadata": {
    "execution": {
     "iopub.execute_input": "2025-08-27T15:12:26.432573Z",
     "iopub.status.busy": "2025-08-27T15:12:26.432138Z",
     "iopub.status.idle": "2025-08-27T15:12:26.437959Z",
     "shell.execute_reply": "2025-08-27T15:12:26.437137Z"
    },
    "papermill": {
     "duration": 0.012439,
     "end_time": "2025-08-27T15:12:26.439393",
     "exception": false,
     "start_time": "2025-08-27T15:12:26.426954",
     "status": "completed"
    },
    "tags": []
   },
   "outputs": [],
   "source": [
    "def oracle(n, case): \n",
    "    qc=QuantumCircuit(n+1)\n",
    "    if (case==\"constant\"): \n",
    "        val=np.random.randint(2) \n",
    "        if (val==1): \n",
    "            qc.x(n)\n",
    "    else: \n",
    "        for i in range(n): \n",
    "            qc.cx(i, n)\n",
    "    gate=qc.to_gate(label=\"Oracle\")\n",
    "    return gate \n",
    "    \n",
    "        "
   ]
  },
  {
   "cell_type": "code",
   "execution_count": 6,
   "id": "000390a4",
   "metadata": {
    "execution": {
     "iopub.execute_input": "2025-08-27T15:12:26.449331Z",
     "iopub.status.busy": "2025-08-27T15:12:26.448875Z",
     "iopub.status.idle": "2025-08-27T15:12:26.454676Z",
     "shell.execute_reply": "2025-08-27T15:12:26.453680Z"
    },
    "papermill": {
     "duration": 0.012703,
     "end_time": "2025-08-27T15:12:26.456476",
     "exception": false,
     "start_time": "2025-08-27T15:12:26.443773",
     "status": "completed"
    },
    "tags": []
   },
   "outputs": [],
   "source": [
    "def deutsch_josza(n, case): \n",
    "    qc=QuantumCircuit(n+1, n) \n",
    "    qc.x(n)\n",
    "    qc.h(range(n+1))\n",
    "    qc.append(oracle(n, case), range(n+1))\n",
    "    qc.h(range(n))\n",
    "    for i in range(n): \n",
    "        qc.measure(i, i)\n",
    "    return qc \n",
    "    "
   ]
  },
  {
   "cell_type": "code",
   "execution_count": 7,
   "id": "cb8ca933",
   "metadata": {
    "execution": {
     "iopub.execute_input": "2025-08-27T15:12:26.466139Z",
     "iopub.status.busy": "2025-08-27T15:12:26.465789Z",
     "iopub.status.idle": "2025-08-27T15:12:26.477262Z",
     "shell.execute_reply": "2025-08-27T15:12:26.476300Z"
    },
    "papermill": {
     "duration": 0.017977,
     "end_time": "2025-08-27T15:12:26.478676",
     "exception": false,
     "start_time": "2025-08-27T15:12:26.460699",
     "status": "completed"
    },
    "tags": []
   },
   "outputs": [
    {
     "data": {
      "text/html": [
       "<pre style=\"word-wrap: normal;white-space: pre;background: #fff0;line-height: 1.1;font-family: &quot;Courier New&quot;,Courier,monospace\">     ┌───┐     ┌─────────┐┌───┐┌─┐            \n",
       "q_0: ┤ H ├─────┤0        ├┤ H ├┤M├────────────\n",
       "     ├───┤     │         │├───┤└╥┘┌─┐         \n",
       "q_1: ┤ H ├─────┤1        ├┤ H ├─╫─┤M├─────────\n",
       "     ├───┤     │         │├───┤ ║ └╥┘┌─┐      \n",
       "q_2: ┤ H ├─────┤2        ├┤ H ├─╫──╫─┤M├──────\n",
       "     ├───┤     │  Oracle │├───┤ ║  ║ └╥┘┌─┐   \n",
       "q_3: ┤ H ├─────┤3        ├┤ H ├─╫──╫──╫─┤M├───\n",
       "     ├───┤     │         │├───┤ ║  ║  ║ └╥┘┌─┐\n",
       "q_4: ┤ H ├─────┤4        ├┤ H ├─╫──╫──╫──╫─┤M├\n",
       "     ├───┤┌───┐│         │└───┘ ║  ║  ║  ║ └╥┘\n",
       "q_5: ┤ X ├┤ H ├┤5        ├──────╫──╫──╫──╫──╫─\n",
       "     └───┘└───┘└─────────┘      ║  ║  ║  ║  ║ \n",
       "c: 5/═══════════════════════════╩══╩══╩══╩══╩═\n",
       "                                0  1  2  3  4 </pre>"
      ],
      "text/plain": [
       "     ┌───┐     ┌─────────┐┌───┐┌─┐            \n",
       "q_0: ┤ H ├─────┤0        ├┤ H ├┤M├────────────\n",
       "     ├───┤     │         │├───┤└╥┘┌─┐         \n",
       "q_1: ┤ H ├─────┤1        ├┤ H ├─╫─┤M├─────────\n",
       "     ├───┤     │         │├───┤ ║ └╥┘┌─┐      \n",
       "q_2: ┤ H ├─────┤2        ├┤ H ├─╫──╫─┤M├──────\n",
       "     ├───┤     │  Oracle │├───┤ ║  ║ └╥┘┌─┐   \n",
       "q_3: ┤ H ├─────┤3        ├┤ H ├─╫──╫──╫─┤M├───\n",
       "     ├───┤     │         │├───┤ ║  ║  ║ └╥┘┌─┐\n",
       "q_4: ┤ H ├─────┤4        ├┤ H ├─╫──╫──╫──╫─┤M├\n",
       "     ├───┤┌───┐│         │└───┘ ║  ║  ║  ║ └╥┘\n",
       "q_5: ┤ X ├┤ H ├┤5        ├──────╫──╫──╫──╫──╫─\n",
       "     └───┘└───┘└─────────┘      ║  ║  ║  ║  ║ \n",
       "c: 5/═══════════════════════════╩══╩══╩══╩══╩═\n",
       "                                0  1  2  3  4 "
      ]
     },
     "execution_count": 7,
     "metadata": {},
     "output_type": "execute_result"
    }
   ],
   "source": [
    "qc=deutsch_josza(5, \"constant\") \n",
    "qc.draw()"
   ]
  },
  {
   "cell_type": "code",
   "execution_count": 8,
   "id": "9197ebc2",
   "metadata": {
    "execution": {
     "iopub.execute_input": "2025-08-27T15:12:26.488875Z",
     "iopub.status.busy": "2025-08-27T15:12:26.488516Z",
     "iopub.status.idle": "2025-08-27T15:12:26.888599Z",
     "shell.execute_reply": "2025-08-27T15:12:26.887728Z"
    },
    "papermill": {
     "duration": 0.407016,
     "end_time": "2025-08-27T15:12:26.890208",
     "exception": false,
     "start_time": "2025-08-27T15:12:26.483192",
     "status": "completed"
    },
    "tags": []
   },
   "outputs": [
    {
     "data": {
      "image/png": "[encoded data removed]",
      "text/plain": [
       "<Figure size 640x480 with 1 Axes>"
      ]
     },
     "execution_count": 8,
     "metadata": {},
     "output_type": "execute_result"
    }
   ],
   "source": [
    "sim=AerSimulator() \n",
    "compiled=transpile(qc, sim) \n",
    "result=sim.run(compiled, shots=1000).result() \n",
    "counts=result.get_counts() \n",
    "plot_histogram(counts)"
   ]
  },
  {
   "cell_type": "code",
   "execution_count": 9,
   "id": "bd03789e",
   "metadata": {
    "execution": {
     "iopub.execute_input": "2025-08-27T15:12:26.900993Z",
     "iopub.status.busy": "2025-08-27T15:12:26.900606Z",
     "iopub.status.idle": "2025-08-27T15:12:26.910526Z",
     "shell.execute_reply": "2025-08-27T15:12:26.909496Z"
    },
    "papermill": {
     "duration": 0.017241,
     "end_time": "2025-08-27T15:12:26.912163",
     "exception": false,
     "start_time": "2025-08-27T15:12:26.894922",
     "status": "completed"
    },
    "tags": []
   },
   "outputs": [
    {
     "data": {
      "text/html": [
       "<pre style=\"word-wrap: normal;white-space: pre;background: #fff0;line-height: 1.1;font-family: &quot;Courier New&quot;,Courier,monospace\">     ┌───┐     ┌─────────┐┌───┐┌─┐            \n",
       "q_0: ┤ H ├─────┤0        ├┤ H ├┤M├────────────\n",
       "     ├───┤     │         │├───┤└╥┘┌─┐         \n",
       "q_1: ┤ H ├─────┤1        ├┤ H ├─╫─┤M├─────────\n",
       "     ├───┤     │         │├───┤ ║ └╥┘┌─┐      \n",
       "q_2: ┤ H ├─────┤2        ├┤ H ├─╫──╫─┤M├──────\n",
       "     ├───┤     │  Oracle │├───┤ ║  ║ └╥┘┌─┐   \n",
       "q_3: ┤ H ├─────┤3        ├┤ H ├─╫──╫──╫─┤M├───\n",
       "     ├───┤     │         │├───┤ ║  ║  ║ └╥┘┌─┐\n",
       "q_4: ┤ H ├─────┤4        ├┤ H ├─╫──╫──╫──╫─┤M├\n",
       "     ├───┤┌───┐│         │└───┘ ║  ║  ║  ║ └╥┘\n",
       "q_5: ┤ X ├┤ H ├┤5        ├──────╫──╫──╫──╫──╫─\n",
       "     └───┘└───┘└─────────┘      ║  ║  ║  ║  ║ \n",
       "c: 5/═══════════════════════════╩══╩══╩══╩══╩═\n",
       "                                0  1  2  3  4 </pre>"
      ],
      "text/plain": [
       "     ┌───┐     ┌─────────┐┌───┐┌─┐            \n",
       "q_0: ┤ H ├─────┤0        ├┤ H ├┤M├────────────\n",
       "     ├───┤     │         │├───┤└╥┘┌─┐         \n",
       "q_1: ┤ H ├─────┤1        ├┤ H ├─╫─┤M├─────────\n",
       "     ├───┤     │         │├───┤ ║ └╥┘┌─┐      \n",
       "q_2: ┤ H ├─────┤2        ├┤ H ├─╫──╫─┤M├──────\n",
       "     ├───┤     │  Oracle │├───┤ ║  ║ └╥┘┌─┐   \n",
       "q_3: ┤ H ├─────┤3        ├┤ H ├─╫──╫──╫─┤M├───\n",
       "     ├───┤     │         │├───┤ ║  ║  ║ └╥┘┌─┐\n",
       "q_4: ┤ H ├─────┤4        ├┤ H ├─╫──╫──╫──╫─┤M├\n",
       "     ├───┤┌───┐│         │└───┘ ║  ║  ║  ║ └╥┘\n",
       "q_5: ┤ X ├┤ H ├┤5        ├──────╫──╫──╫──╫──╫─\n",
       "     └───┘└───┘└─────────┘      ║  ║  ║  ║  ║ \n",
       "c: 5/═══════════════════════════╩══╩══╩══╩══╩═\n",
       "                                0  1  2  3  4 "
      ]
     },
     "execution_count": 9,
     "metadata": {},
     "output_type": "execute_result"
    }
   ],
   "source": [
    "#  now the balanced case \n",
    "qc2=deutsch_josza(5, \"balanced\") \n",
    "qc2.draw()"
   ]
  },
  {
   "cell_type": "code",
   "execution_count": 10,
   "id": "1ca21265",
   "metadata": {
    "execution": {
     "iopub.execute_input": "2025-08-27T15:12:26.923592Z",
     "iopub.status.busy": "2025-08-27T15:12:26.923293Z",
     "iopub.status.idle": "2025-08-27T15:12:27.180555Z",
     "shell.execute_reply": "2025-08-27T15:12:27.179542Z"
    },
    "papermill": {
     "duration": 0.264558,
     "end_time": "2025-08-27T15:12:27.182110",
     "exception": false,
     "start_time": "2025-08-27T15:12:26.917552",
     "status": "completed"
    },
    "tags": []
   },
   "outputs": [
    {
     "data": {
      "image/png": "[encoded data removed]",
      "text/plain": [
       "<Figure size 640x480 with 1 Axes>"
      ]
     },
     "execution_count": 10,
     "metadata": {},
     "output_type": "execute_result"
    }
   ],
   "source": [
    "sim2=AerSimulator() \n",
    "compiled2=transpile(qc2, sim2) \n",
    "result2=sim2.run(compiled2, shots=1000).result() \n",
    "counts2=result2.get_counts() \n",
    "plot_histogram(counts2) \n",
    "\n",
    "# THIS DEPENDS ON IMPLEMENTATION OF THE ORACLE "
   ]
  }
 ],
 "metadata": {
  "kaggle": {
   "accelerator": "none",
   "dataSources": [],
   "dockerImageVersionId": 31089,
   "isGpuEnabled": false,
   "isInternetEnabled": true,
   "language": "python",
   "sourceType": "notebook"
  },
  "kernelspec": {
   "display_name": "Python 3",
   "language": "python",
   "name": "python3"
  },
  "language_info": {
   "codemirror_mode": {
    "name": "ipython",
    "version": 3
   },
   "file_extension": ".py",
   "mimetype": "text/x-python",
   "name": "python",
   "nbconvert_exporter": "python",
   "pygments_lexer": "ipython3",
   "version": "3.11.13"
  },
  "papermill": {
   "default_parameters": {},
   "duration": 21.584474,
   "end_time": "2025-08-27T15:12:27.908044",
   "environment_variables": {},
   "exception": null,
   "input_path": "__notebook__.ipynb",
   "output_path": "__notebook__.ipynb",
   "parameters": {},
   "start_time": "2025-08-27T15:12:06.323570",
   "version": "2.6.0"
  }
 },
 "nbformat": 4,
 "nbformat_minor": 5
}
